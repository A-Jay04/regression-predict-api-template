{
  "nbformat": 4,
  "nbformat_minor": 0,
  "metadata": {
    "kernelspec": {
      "display_name": "Python 3",
      "language": "python",
      "name": "python3"
    },
    "language_info": {
      "codemirror_mode": {
        "name": "ipython",
        "version": 3
      },
      "file_extension": ".py",
      "mimetype": "text/x-python",
      "name": "python",
      "nbconvert_exporter": "python",
      "pygments_lexer": "ipython3",
      "version": "3.5.2"
    },
    "colab": {
      "name": "Zindi_Ridge_attempt.ipynb",
      "provenance": [],
      "toc_visible": true,
      "include_colab_link": true
    }
  },
  "cells": [
    {
      "cell_type": "markdown",
      "metadata": {
        "id": "view-in-github",
        "colab_type": "text"
      },
      "source": [
        "<a href=\"https://colab.research.google.com/github/A-Jay04/regression-predict-api-template/blob/master/regression_zindi_challenge/Draft%20Files/Ahmed/Zindi_Ridge_attempt.ipynb\" target=\"_parent\"><img src=\"https://colab.research.google.com/assets/colab-badge.svg\" alt=\"Open In Colab\"/></a>"
      ]
    },
    {
      "cell_type": "code",
      "metadata": {
        "id": "CLZIa9dAc_8-",
        "colab_type": "code",
        "outputId": "b2a613e3-b6f3-4286-ce75-e59325c2715c",
        "colab": {
          "base_uri": "https://localhost:8080/",
          "height": 51
        }
      },
      "source": [
        "import numpy as np\n",
        "import pandas as pd\n",
        "import matplotlib.pyplot as plt\n",
        "import seaborn as sns"
      ],
      "execution_count": 1,
      "outputs": [
        {
          "output_type": "stream",
          "text": [
            "/usr/local/lib/python3.6/dist-packages/statsmodels/tools/_testing.py:19: FutureWarning: pandas.util.testing is deprecated. Use the functions in the public API at pandas.testing instead.\n",
            "  import pandas.util.testing as tm\n"
          ],
          "name": "stderr"
        }
      ]
    },
    {
      "cell_type": "markdown",
      "metadata": {
        "id": "-Qq_jBBSc_9H",
        "colab_type": "text"
      },
      "source": [
        "Now we'll load our data as a Pandas DataFrame"
      ]
    },
    {
      "cell_type": "code",
      "metadata": {
        "id": "puSCnhmxc_9J",
        "colab_type": "code",
        "colab": {}
      },
      "source": [
        "train_df=pd.read_csv('Train.csv')\n",
        "riders_df=pd.read_csv('Riders.csv')"
      ],
      "execution_count": 0,
      "outputs": []
    },
    {
      "cell_type": "code",
      "metadata": {
        "id": "npCFRtZenQkk",
        "colab_type": "code",
        "colab": {}
      },
      "source": [
        "#Replace spaces with underscores on imported data\n",
        "train_df.columns=[i.replace(' ','_') for i in train_df.columns]\n",
        "riders_df.columns=[i.replace(' ','_') for i in riders_df.columns]"
      ],
      "execution_count": 0,
      "outputs": []
    },
    {
      "cell_type": "code",
      "metadata": {
        "id": "YlB0EeTyneBs",
        "colab_type": "code",
        "colab": {}
      },
      "source": [
        "#Replace the underscores so OLS can be used later\n",
        "train_df.columns=[i.replace('_','') for i in train_df.columns]\n",
        "riders_df.columns=[i.replace('_','') for i in riders_df.columns]"
      ],
      "execution_count": 0,
      "outputs": []
    },
    {
      "cell_type": "code",
      "metadata": {
        "id": "Y9uWzGDlnsRN",
        "colab_type": "code",
        "colab": {}
      },
      "source": [
        "#Replace the dash so OLS can be used later\n",
        "train_df.columns=[i.replace('-','') for i in train_df.columns]\n",
        "riders_df.columns=[i.replace('-','') for i in riders_df.columns]"
      ],
      "execution_count": 0,
      "outputs": []
    },
    {
      "cell_type": "markdown",
      "metadata": {
        "id": "WLvsypzMc_9R",
        "colab_type": "text"
      },
      "source": [
        "We can take a look at the dimensions of the dataframe to get an idea of the number of rows, _n_, and nummber of predictors, _p_, which is equal to one less than the number of columns."
      ]
    },
    {
      "cell_type": "code",
      "metadata": {
        "id": "sptNlZZec_9V",
        "colab_type": "code",
        "outputId": "3c7019f1-e06a-4168-cf9a-63d3248c01f2",
        "colab": {
          "base_uri": "https://localhost:8080/",
          "height": 34
        }
      },
      "source": [
        "train_df.shape"
      ],
      "execution_count": 6,
      "outputs": [
        {
          "output_type": "execute_result",
          "data": {
            "text/plain": [
              "(21201, 29)"
            ]
          },
          "metadata": {
            "tags": []
          },
          "execution_count": 6
        }
      ]
    },
    {
      "cell_type": "markdown",
      "metadata": {
        "id": "JjA_KVEvgFgT",
        "colab_type": "text"
      },
      "source": [
        "We need to account for the null values, so we will run a function to check all cols"
      ]
    },
    {
      "cell_type": "code",
      "metadata": {
        "id": "0wbKEIMugFQH",
        "colab_type": "code",
        "colab": {}
      },
      "source": [
        "def total_missing(df):\n",
        "    #code counts number of nulls and returns a list\n",
        "    #of percentage null values and column name\n",
        "    values = []\n",
        "    rows = len(df)\n",
        "    for column in df:\n",
        "      x = ((df[column].isnull().sum())/(rows))*100\n",
        "      values.append(round(x,3))\n",
        "    return values"
      ],
      "execution_count": 0,
      "outputs": []
    },
    {
      "cell_type": "code",
      "metadata": {
        "id": "YDEfuk-VgOG1",
        "colab_type": "code",
        "colab": {
          "base_uri": "https://localhost:8080/",
          "height": 510
        },
        "outputId": "7033f8bc-4ec9-4713-db1e-7dbbe4795b91"
      },
      "source": [
        "total_missing(train_df)"
      ],
      "execution_count": 8,
      "outputs": [
        {
          "output_type": "execute_result",
          "data": {
            "text/plain": [
              "[0.0,\n",
              " 0.0,\n",
              " 0.0,\n",
              " 0.0,\n",
              " 0.0,\n",
              " 0.0,\n",
              " 0.0,\n",
              " 0.0,\n",
              " 0.0,\n",
              " 0.0,\n",
              " 0.0,\n",
              " 0.0,\n",
              " 0.0,\n",
              " 0.0,\n",
              " 0.0,\n",
              " 0.0,\n",
              " 0.0,\n",
              " 0.0,\n",
              " 0.0,\n",
              " 0.0,\n",
              " 0.0,\n",
              " 20.593,\n",
              " 97.396,\n",
              " 0.0,\n",
              " 0.0,\n",
              " 0.0,\n",
              " 0.0,\n",
              " 0.0,\n",
              " 0.0]"
            ]
          },
          "metadata": {
            "tags": []
          },
          "execution_count": 8
        }
      ]
    },
    {
      "cell_type": "code",
      "metadata": {
        "id": "_Ph6_8CbgRB1",
        "colab_type": "code",
        "colab": {}
      },
      "source": [
        "train_df.drop('Precipitationinmillimeters',axis=1,inplace=True)"
      ],
      "execution_count": 0,
      "outputs": []
    },
    {
      "cell_type": "code",
      "metadata": {
        "id": "V9kUhEICgfuv",
        "colab_type": "code",
        "colab": {}
      },
      "source": [
        "train_df[\"Temperature\"].fillna(train_df['Temperature'].median(), inplace=True)"
      ],
      "execution_count": 0,
      "outputs": []
    },
    {
      "cell_type": "markdown",
      "metadata": {
        "id": "yBTxTIDLh4m-",
        "colab_type": "text"
      },
      "source": [
        "#Dropping logical columns in this following portion"
      ]
    },
    {
      "cell_type": "code",
      "metadata": {
        "id": "K7Wt34kch4ZL",
        "colab_type": "code",
        "colab": {}
      },
      "source": [
        "train2_df = train_df.copy()"
      ],
      "execution_count": 0,
      "outputs": []
    },
    {
      "cell_type": "code",
      "metadata": {
        "id": "F61yRp2nvxU-",
        "colab_type": "code",
        "colab": {}
      },
      "source": [
        "#Drop Vehicle_Type since all data consists of bikes\n",
        "train2_df.drop('VehicleType',axis=1,inplace=True)"
      ],
      "execution_count": 0,
      "outputs": []
    },
    {
      "cell_type": "code",
      "metadata": {
        "id": "cdlBepDFv0Kt",
        "colab_type": "code",
        "colab": {}
      },
      "source": [
        "#Replace Day of Month and Weekday columns with single columns to represent the group of times\n",
        "train2_df['DayofMonth'] = train2_df['PlacementDayofMonth']\n",
        "train2_df['Weekday'] = train2_df['ConfirmationWeekday(Mo=1)']"
      ],
      "execution_count": 0,
      "outputs": []
    },
    {
      "cell_type": "code",
      "metadata": {
        "id": "GRjm8p8IwZue",
        "colab_type": "code",
        "colab": {}
      },
      "source": [
        "#Drop redundant day of month and weekday columns\n",
        "train2_df.drop('PlacementDayofMonth',axis=1,inplace=True)\n",
        "train2_df.drop('PlacementWeekday(Mo=1)',axis=1,inplace=True)\n",
        "train2_df.drop('ConfirmationDayofMonth',axis=1,inplace=True)\n",
        "train2_df.drop('ConfirmationWeekday(Mo=1)',axis=1,inplace=True)\n",
        "train2_df.drop('ArrivalatPickupDayofMonth',axis=1,inplace=True)\n",
        "train2_df.drop('ArrivalatPickupWeekday(Mo=1)',axis=1,inplace=True)\n",
        "train2_df.drop('PickupDayofMonth',axis=1,inplace=True)\n",
        "train2_df.drop('PickupWeekday(Mo=1)',axis=1,inplace=True)\n",
        "train2_df.drop('ArrivalatDestinationDayofMonth',axis=1,inplace=True)\n",
        "train2_df.drop('ArrivalatDestinationWeekday(Mo=1)',axis=1,inplace=True)\n",
        "\n",
        "#Drop order no and User ID since they do not impact logistics\n",
        "train2_df.drop('OrderNo',axis=1,inplace=True)\n",
        "train2_df.drop('UserId',axis=1,inplace=True)\n",
        "\n",
        "#just for now\n",
        "#rider_info = train2_df.pop('RiderId')"
      ],
      "execution_count": 0,
      "outputs": []
    },
    {
      "cell_type": "code",
      "metadata": {
        "id": "jNEtcas0iK5b",
        "colab_type": "code",
        "colab": {
          "base_uri": "https://localhost:8080/",
          "height": 425
        },
        "outputId": "025f3110-be82-4512-b01a-62e7e0cc0607"
      },
      "source": [
        "train2_df.info()"
      ],
      "execution_count": 36,
      "outputs": [
        {
          "output_type": "stream",
          "text": [
            "<class 'pandas.core.frame.DataFrame'>\n",
            "RangeIndex: 21201 entries, 0 to 21200\n",
            "Data columns (total 17 columns):\n",
            " #   Column                    Non-Null Count  Dtype  \n",
            "---  ------                    --------------  -----  \n",
            " 0   PlatformType              21201 non-null  int64  \n",
            " 1   PersonalorBusiness        21201 non-null  object \n",
            " 2   PlacementTime             21201 non-null  object \n",
            " 3   ConfirmationTime          21201 non-null  object \n",
            " 4   ArrivalatPickupTime       21201 non-null  object \n",
            " 5   PickupTime                21201 non-null  object \n",
            " 6   ArrivalatDestinationTime  21201 non-null  object \n",
            " 7   Distance(KM)              21201 non-null  int64  \n",
            " 8   Temperature               21201 non-null  float64\n",
            " 9   PickupLat                 21201 non-null  float64\n",
            " 10  PickupLong                21201 non-null  float64\n",
            " 11  DestinationLat            21201 non-null  float64\n",
            " 12  DestinationLong           21201 non-null  float64\n",
            " 13  RiderId                   21201 non-null  object \n",
            " 14  TimefromPickuptoArrival   21201 non-null  int64  \n",
            " 15  DayofMonth                21201 non-null  int64  \n",
            " 16  Weekday                   21201 non-null  int64  \n",
            "dtypes: float64(5), int64(5), object(7)\n",
            "memory usage: 2.7+ MB\n"
          ],
          "name": "stdout"
        }
      ]
    },
    {
      "cell_type": "markdown",
      "metadata": {
        "id": "Do1wR_0FiQNE",
        "colab_type": "text"
      },
      "source": [
        "We will know add categorical values next"
      ]
    },
    {
      "cell_type": "code",
      "metadata": {
        "id": "qjj942Xj1tea",
        "colab_type": "code",
        "colab": {}
      },
      "source": [
        "time=[]\n",
        "\n",
        "for i in range(len(train2_df['PickupTime'])):\n",
        "\n",
        "  idx=train2_df['PickupTime'][i].index(':')\n",
        "\n",
        "  if train2_df['PickupTime'][i][-2:]=='AM' and int(train2_df['PickupTime'][i][:idx]) in [3,4,5,6,7,8,9]:\n",
        "    time.append('EarlyMorning')\n",
        "  elif train2_df['PickupTime'][i][-2:]=='AM' and int(train2_df['PickupTime'][i][:idx]) in [10,11]:\n",
        "    time.append('LateMorning')\n",
        "  elif train2_df['PickupTime'][i][-2:]=='PM' and int(train2_df['PickupTime'][i][:idx]) in [12,1,2,3]:\n",
        "    time.append('EarlyAfternoon')\n",
        "  elif train2_df['PickupTime'][i][-2:]=='PM' and int(train2_df['PickupTime'][i][:idx]) in [4,5,6,7]:\n",
        "    time.append('Late')\n",
        "  elif train2_df['PickupTime'][i][-2:]=='AM':\n",
        "    time.append('EarlyMorning')\n",
        "  else:\n",
        "    time.append('EarlyAfternoon')\n",
        "\n",
        "\n",
        "train2_df['PickupTime']=time"
      ],
      "execution_count": 0,
      "outputs": []
    },
    {
      "cell_type": "code",
      "metadata": {
        "id": "H1iEEBAJ2i-1",
        "colab_type": "code",
        "colab": {}
      },
      "source": [
        "#Drop Timestamp columns\n",
        "\n",
        "train2_df.drop('PlacementTime',axis=1,inplace=True)\n",
        "train2_df.drop('ConfirmationTime',axis=1,inplace=True)\n",
        "train2_df.drop('ArrivalatPickupTime',axis=1,inplace=True)\n",
        "train2_df.drop('ArrivalatDestinationTime',axis=1,inplace=True)"
      ],
      "execution_count": 0,
      "outputs": []
    },
    {
      "cell_type": "code",
      "metadata": {
        "id": "noRLnNMFig-W",
        "colab_type": "code",
        "colab": {
          "base_uri": "https://localhost:8080/",
          "height": 357
        },
        "outputId": "7ef6a0dd-2e62-4037-d869-606edc73fd50"
      },
      "source": [
        "train2_df.info()"
      ],
      "execution_count": 39,
      "outputs": [
        {
          "output_type": "stream",
          "text": [
            "<class 'pandas.core.frame.DataFrame'>\n",
            "RangeIndex: 21201 entries, 0 to 21200\n",
            "Data columns (total 13 columns):\n",
            " #   Column                   Non-Null Count  Dtype  \n",
            "---  ------                   --------------  -----  \n",
            " 0   PlatformType             21201 non-null  int64  \n",
            " 1   PersonalorBusiness       21201 non-null  object \n",
            " 2   PickupTime               21201 non-null  object \n",
            " 3   Distance(KM)             21201 non-null  int64  \n",
            " 4   Temperature              21201 non-null  float64\n",
            " 5   PickupLat                21201 non-null  float64\n",
            " 6   PickupLong               21201 non-null  float64\n",
            " 7   DestinationLat           21201 non-null  float64\n",
            " 8   DestinationLong          21201 non-null  float64\n",
            " 9   RiderId                  21201 non-null  object \n",
            " 10  TimefromPickuptoArrival  21201 non-null  int64  \n",
            " 11  DayofMonth               21201 non-null  int64  \n",
            " 12  Weekday                  21201 non-null  int64  \n",
            "dtypes: float64(5), int64(5), object(3)\n",
            "memory usage: 2.1+ MB\n"
          ],
          "name": "stdout"
        }
      ]
    },
    {
      "cell_type": "markdown",
      "metadata": {
        "id": "CVe_O-T6i67T",
        "colab_type": "text"
      },
      "source": [
        "DUMMY VARIABLE SECTION"
      ]
    },
    {
      "cell_type": "code",
      "metadata": {
        "id": "qU1dzGp2i6Am",
        "colab_type": "code",
        "colab": {}
      },
      "source": [
        "dummy_df = pd.get_dummies(train2_df,columns=['PickupTime', 'PersonalorBusiness','PlatformType'], drop_first=1 )"
      ],
      "execution_count": 0,
      "outputs": []
    },
    {
      "cell_type": "code",
      "metadata": {
        "id": "57aI_j6jjBT0",
        "colab_type": "code",
        "colab": {
          "base_uri": "https://localhost:8080/",
          "height": 425
        },
        "outputId": "ae6e0876-8e36-43ec-ef8a-d7f4a0d222a7"
      },
      "source": [
        "dummy_df.info()"
      ],
      "execution_count": 41,
      "outputs": [
        {
          "output_type": "stream",
          "text": [
            "<class 'pandas.core.frame.DataFrame'>\n",
            "RangeIndex: 21201 entries, 0 to 21200\n",
            "Data columns (total 17 columns):\n",
            " #   Column                       Non-Null Count  Dtype  \n",
            "---  ------                       --------------  -----  \n",
            " 0   Distance(KM)                 21201 non-null  int64  \n",
            " 1   Temperature                  21201 non-null  float64\n",
            " 2   PickupLat                    21201 non-null  float64\n",
            " 3   PickupLong                   21201 non-null  float64\n",
            " 4   DestinationLat               21201 non-null  float64\n",
            " 5   DestinationLong              21201 non-null  float64\n",
            " 6   RiderId                      21201 non-null  object \n",
            " 7   TimefromPickuptoArrival      21201 non-null  int64  \n",
            " 8   DayofMonth                   21201 non-null  int64  \n",
            " 9   Weekday                      21201 non-null  int64  \n",
            " 10  PickupTime_EarlyMorning      21201 non-null  uint8  \n",
            " 11  PickupTime_Late              21201 non-null  uint8  \n",
            " 12  PickupTime_LateMorning       21201 non-null  uint8  \n",
            " 13  PersonalorBusiness_Personal  21201 non-null  uint8  \n",
            " 14  PlatformType_2               21201 non-null  uint8  \n",
            " 15  PlatformType_3               21201 non-null  uint8  \n",
            " 16  PlatformType_4               21201 non-null  uint8  \n",
            "dtypes: float64(5), int64(4), object(1), uint8(7)\n",
            "memory usage: 1.8+ MB\n"
          ],
          "name": "stdout"
        }
      ]
    },
    {
      "cell_type": "code",
      "metadata": {
        "id": "i9sMKHJd5q8h",
        "colab_type": "code",
        "colab": {}
      },
      "source": [
        "spare = dummy_df.pop('TimefromPickuptoArrival')"
      ],
      "execution_count": 0,
      "outputs": []
    },
    {
      "cell_type": "code",
      "metadata": {
        "id": "YNzgc-fE5yFs",
        "colab_type": "code",
        "colab": {}
      },
      "source": [
        "dummy_df['TimefromPickuptoArrival'] = spare"
      ],
      "execution_count": 0,
      "outputs": []
    },
    {
      "cell_type": "code",
      "metadata": {
        "id": "IPqa_w45FJVk",
        "colab_type": "code",
        "colab": {}
      },
      "source": [
        "#KM making issues so we will remove it\n",
        "dummy_df.rename(columns={\"Distance(KM)\": \"Distance\"}, inplace=True)"
      ],
      "execution_count": 0,
      "outputs": []
    },
    {
      "cell_type": "code",
      "metadata": {
        "id": "r_jXoy7ujMe7",
        "colab_type": "code",
        "colab": {}
      },
      "source": [
        "dummy_df.info()"
      ],
      "execution_count": 0,
      "outputs": []
    },
    {
      "cell_type": "markdown",
      "metadata": {
        "id": "rdx1pFtzfxs3",
        "colab_type": "text"
      },
      "source": [
        "We will fork at this point - so we have one dataframe with only test data and another that holds a merge with the riders table so we can compare the two"
      ]
    },
    {
      "cell_type": "code",
      "metadata": {
        "id": "ImvIRus9f7-0",
        "colab_type": "code",
        "colab": {}
      },
      "source": [
        "single_df = dummy_df.copy()"
      ],
      "execution_count": 0,
      "outputs": []
    },
    {
      "cell_type": "code",
      "metadata": {
        "id": "dnWF0T8Ggmom",
        "colab_type": "code",
        "colab": {}
      },
      "source": [
        "train_join = dummy_df.copy()"
      ],
      "execution_count": 0,
      "outputs": []
    },
    {
      "cell_type": "code",
      "metadata": {
        "id": "fEp-763KgxfD",
        "colab_type": "code",
        "colab": {}
      },
      "source": [
        "#Innner join Train_df and Rider_df on Rider_Id\n",
        "#you are changing the df by using merge\n",
        "#use a left join to ensure train data stays\n",
        "\n",
        "join_df=pd.merge(train_join,riders_df,how='left',on='RiderId')"
      ],
      "execution_count": 0,
      "outputs": []
    },
    {
      "cell_type": "markdown",
      "metadata": {
        "id": "1ZNXekXIhC03",
        "colab_type": "text"
      },
      "source": [
        "Lets check both dataframes for nulls and object types to ensure data integrity"
      ]
    },
    {
      "cell_type": "code",
      "metadata": {
        "id": "iWLeGL0dhHTS",
        "colab_type": "code",
        "colab": {}
      },
      "source": [
        "join_df.info()"
      ],
      "execution_count": 0,
      "outputs": []
    },
    {
      "cell_type": "code",
      "metadata": {
        "id": "WGi89CJ3jlAP",
        "colab_type": "code",
        "colab": {}
      },
      "source": [
        "#we can drop Rider ID now that the join has been made\n",
        "join_df.drop('RiderId',axis=1,inplace=True)"
      ],
      "execution_count": 0,
      "outputs": []
    },
    {
      "cell_type": "code",
      "metadata": {
        "id": "nIxWn_ZklGoM",
        "colab_type": "code",
        "colab": {}
      },
      "source": [
        "single_df.drop('RiderId',axis=1,inplace=True)"
      ],
      "execution_count": 0,
      "outputs": []
    },
    {
      "cell_type": "code",
      "metadata": {
        "id": "fkJ0Q4czj3zc",
        "colab_type": "code",
        "colab": {}
      },
      "source": [
        "#we need to reorder so that Y is the last column\n",
        "spare2 = join_df.pop('TimefromPickuptoArrival')\n",
        "join_df['TimefromPickuptoArrival'] = spare2"
      ],
      "execution_count": 0,
      "outputs": []
    },
    {
      "cell_type": "markdown",
      "metadata": {
        "id": "fw2kYF08kHc8",
        "colab_type": "text"
      },
      "source": [
        "# NEXT CELL HOLDS A MERGED DATAFRAME READY TO USE"
      ]
    },
    {
      "cell_type": "code",
      "metadata": {
        "id": "SPfQrweekHED",
        "colab_type": "code",
        "colab": {}
      },
      "source": [
        "#join_df"
      ],
      "execution_count": 0,
      "outputs": []
    },
    {
      "cell_type": "markdown",
      "metadata": {
        "id": "oU2l2uxYkVBx",
        "colab_type": "text"
      },
      "source": [
        "# NEXT CELL HOLDS AN UNMERGED DATAFRAME READY TO USE"
      ]
    },
    {
      "cell_type": "code",
      "metadata": {
        "id": "MjYkwI5XkaQR",
        "colab_type": "code",
        "colab": {}
      },
      "source": [
        "#single_df"
      ],
      "execution_count": 0,
      "outputs": []
    },
    {
      "cell_type": "markdown",
      "metadata": {
        "id": "Bp84bpPJkiZ3",
        "colab_type": "text"
      },
      "source": [
        "# **Following section continues to scaling of UNMERGED DF**"
      ]
    },
    {
      "cell_type": "markdown",
      "metadata": {
        "id": "x0CoyKbXc_9b",
        "colab_type": "text"
      },
      "source": [
        "We will be using a dataset which contains monthly data for the Rand/Dollar exchange rate, as well as a few potential predictor variables. In this case, the goal is to try and model the exchange rate, using the other 19 variables.   \n",
        "\n",
        "The way we write this is as follows:   \n",
        "\n",
        "$$Y = \\beta_0 + \\beta_1X_1 + \\beta_2X_2 + ... + \\beta_pX_p$$   \n",
        "\n",
        "In this case, $Y$ is the reponse variable which depends on the _p_ predictor variables."
      ]
    },
    {
      "cell_type": "markdown",
      "metadata": {
        "id": "3aLaflOIc_9c",
        "colab_type": "text"
      },
      "source": [
        "### Review of Data Scaling\n",
        "\n",
        "The regularization techniques we will cover in the course require that our variables are appropriately scaled. As we have seen, Z-score standardisation is a great way to scale variables such that they have similar (though not identical) ranges, in a way that is fairly robust to outlier values.\n",
        "\n",
        "We'll import the `StandardScalar()` object from `sklearn.preprocessing`."
      ]
    },
    {
      "cell_type": "code",
      "metadata": {
        "id": "TPTX5f5jc_9c",
        "colab_type": "code",
        "colab": {}
      },
      "source": [
        "# split data into predictors and response\n",
        "# THIS X AND Y VALUE ARE BASED ON UNMERGED DATAFRAME AND THEREFORE IS NOT THE SAME AS THE MERGE ONE. X COLS WILL DIFFER\n",
        "X = single_df.drop('TimefromPickuptoArrival', axis=1)\n",
        "y = single_df['TimefromPickuptoArrival']"
      ],
      "execution_count": 0,
      "outputs": []
    },
    {
      "cell_type": "code",
      "metadata": {
        "id": "kqBy-Oe4c_9g",
        "colab_type": "code",
        "colab": {}
      },
      "source": [
        "# import scaler method from sklearn\n",
        "from sklearn.preprocessing import StandardScaler"
      ],
      "execution_count": 0,
      "outputs": []
    },
    {
      "cell_type": "code",
      "metadata": {
        "id": "laAibDiUc_9l",
        "colab_type": "code",
        "colab": {}
      },
      "source": [
        "# create scaler object\n",
        "scaler = StandardScaler()"
      ],
      "execution_count": 0,
      "outputs": []
    },
    {
      "cell_type": "code",
      "metadata": {
        "id": "7rjUsIQAc_9p",
        "colab_type": "code",
        "colab": {}
      },
      "source": [
        "# create scaled version of the predictors (there is no need to scale the response)\n",
        "X_scaled = scaler.fit_transform(X)"
      ],
      "execution_count": 0,
      "outputs": []
    },
    {
      "cell_type": "code",
      "metadata": {
        "id": "FLecQkrdc_9s",
        "colab_type": "code",
        "outputId": "895a6700-dc54-43ad-fbf3-df10d86ecaa9",
        "colab": {
          "base_uri": "https://localhost:8080/",
          "height": 224
        }
      },
      "source": [
        "# convert the scaled predictor values into a dataframe\n",
        "X_standardise = pd.DataFrame(X_scaled,columns=X.columns)\n",
        "X_standardise.head()"
      ],
      "execution_count": 64,
      "outputs": [
        {
          "output_type": "execute_result",
          "data": {
            "text/html": [
              "<div>\n",
              "<style scoped>\n",
              "    .dataframe tbody tr th:only-of-type {\n",
              "        vertical-align: middle;\n",
              "    }\n",
              "\n",
              "    .dataframe tbody tr th {\n",
              "        vertical-align: top;\n",
              "    }\n",
              "\n",
              "    .dataframe thead th {\n",
              "        text-align: right;\n",
              "    }\n",
              "</style>\n",
              "<table border=\"1\" class=\"dataframe\">\n",
              "  <thead>\n",
              "    <tr style=\"text-align: right;\">\n",
              "      <th></th>\n",
              "      <th>Distance</th>\n",
              "      <th>Temperature</th>\n",
              "      <th>PickupLat</th>\n",
              "      <th>PickupLong</th>\n",
              "      <th>DestinationLat</th>\n",
              "      <th>DestinationLong</th>\n",
              "      <th>DayofMonth</th>\n",
              "      <th>Weekday</th>\n",
              "      <th>PickupTime_EarlyMorning</th>\n",
              "      <th>PickupTime_Late</th>\n",
              "      <th>PickupTime_LateMorning</th>\n",
              "      <th>PersonalorBusiness_Personal</th>\n",
              "      <th>PlatformType_2</th>\n",
              "      <th>PlatformType_3</th>\n",
              "      <th>PlatformType_4</th>\n",
              "    </tr>\n",
              "  </thead>\n",
              "  <tbody>\n",
              "    <tr>\n",
              "      <th>0</th>\n",
              "      <td>-0.971370</td>\n",
              "      <td>-0.902320</td>\n",
              "      <td>-1.189424</td>\n",
              "      <td>0.509897</td>\n",
              "      <td>-0.511888</td>\n",
              "      <td>0.414159</td>\n",
              "      <td>-0.756213</td>\n",
              "      <td>1.122885</td>\n",
              "      <td>-0.325051</td>\n",
              "      <td>-0.451195</td>\n",
              "      <td>1.770412</td>\n",
              "      <td>-0.468583</td>\n",
              "      <td>-0.220146</td>\n",
              "      <td>0.417505</td>\n",
              "      <td>-0.030729</td>\n",
              "    </tr>\n",
              "    <tr>\n",
              "      <th>1</th>\n",
              "      <td>1.145469</td>\n",
              "      <td>0.959066</td>\n",
              "      <td>-2.294056</td>\n",
              "      <td>2.349813</td>\n",
              "      <td>-0.356757</td>\n",
              "      <td>0.070177</td>\n",
              "      <td>-0.415254</td>\n",
              "      <td>1.122885</td>\n",
              "      <td>-0.325051</td>\n",
              "      <td>-0.451195</td>\n",
              "      <td>1.770412</td>\n",
              "      <td>2.134095</td>\n",
              "      <td>-0.220146</td>\n",
              "      <td>0.417505</td>\n",
              "      <td>-0.030729</td>\n",
              "    </tr>\n",
              "    <tr>\n",
              "      <th>2</th>\n",
              "      <td>-1.147774</td>\n",
              "      <td>0.059396</td>\n",
              "      <td>-0.878981</td>\n",
              "      <td>0.858136</td>\n",
              "      <td>-0.526672</td>\n",
              "      <td>0.379588</td>\n",
              "      <td>1.630501</td>\n",
              "      <td>-0.791368</td>\n",
              "      <td>-0.325051</td>\n",
              "      <td>-0.451195</td>\n",
              "      <td>-0.564840</td>\n",
              "      <td>-0.468583</td>\n",
              "      <td>-0.220146</td>\n",
              "      <td>0.417505</td>\n",
              "      <td>-0.030729</td>\n",
              "    </tr>\n",
              "    <tr>\n",
              "      <th>3</th>\n",
              "      <td>-0.089354</td>\n",
              "      <td>-1.274597</td>\n",
              "      <td>0.005523</td>\n",
              "      <td>0.563962</td>\n",
              "      <td>0.730374</td>\n",
              "      <td>-0.361289</td>\n",
              "      <td>-0.074294</td>\n",
              "      <td>1.122885</td>\n",
              "      <td>3.076437</td>\n",
              "      <td>-0.451195</td>\n",
              "      <td>-0.564840</td>\n",
              "      <td>-0.468583</td>\n",
              "      <td>-0.220146</td>\n",
              "      <td>0.417505</td>\n",
              "      <td>-0.030729</td>\n",
              "    </tr>\n",
              "    <tr>\n",
              "      <th>4</th>\n",
              "      <td>-0.089354</td>\n",
              "      <td>-2.453475</td>\n",
              "      <td>0.487515</td>\n",
              "      <td>-0.510932</td>\n",
              "      <td>-0.357811</td>\n",
              "      <td>-0.031369</td>\n",
              "      <td>-0.301601</td>\n",
              "      <td>-1.429452</td>\n",
              "      <td>-0.325051</td>\n",
              "      <td>-0.451195</td>\n",
              "      <td>1.770412</td>\n",
              "      <td>2.134095</td>\n",
              "      <td>-0.220146</td>\n",
              "      <td>-2.395181</td>\n",
              "      <td>-0.030729</td>\n",
              "    </tr>\n",
              "  </tbody>\n",
              "</table>\n",
              "</div>"
            ],
            "text/plain": [
              "   Distance  Temperature  ...  PlatformType_3  PlatformType_4\n",
              "0 -0.971370    -0.902320  ...        0.417505       -0.030729\n",
              "1  1.145469     0.959066  ...        0.417505       -0.030729\n",
              "2 -1.147774     0.059396  ...        0.417505       -0.030729\n",
              "3 -0.089354    -1.274597  ...        0.417505       -0.030729\n",
              "4 -0.089354    -2.453475  ...       -2.395181       -0.030729\n",
              "\n",
              "[5 rows x 15 columns]"
            ]
          },
          "metadata": {
            "tags": []
          },
          "execution_count": 64
        }
      ]
    },
    {
      "cell_type": "markdown",
      "metadata": {
        "id": "spAUmTgHc_9w",
        "colab_type": "text"
      },
      "source": [
        "## Ridge Regression\n",
        "We will first split our data into a training and a testing set. We'll use the first eight years of data as our training set and test the model on the final two years. Note that with time-series data it isn't appropriate to sample rows randomly for the training and testing sets because chronological order remains important.\n",
        "\n",
        "Fitting and testing a Ridge Regression model is very similar to multiple variable regression in `sklearn`. For now, we are going to create a `Ridge()` object without modifying any of the parameters. This means that we will use the default value of $\\alpha=1$. In a later tutorial, we'll learn about choosing a better value for this hyperparameter."
      ]
    },
    {
      "cell_type": "code",
      "metadata": {
        "id": "v42Lk97Fc_9x",
        "colab_type": "code",
        "colab": {}
      },
      "source": [
        "# import train/test splitting function from sklearn\n",
        "from sklearn.model_selection import train_test_split"
      ],
      "execution_count": 0,
      "outputs": []
    },
    {
      "cell_type": "code",
      "metadata": {
        "id": "dTVw4gINc_91",
        "colab_type": "code",
        "colab": {}
      },
      "source": [
        "# split the data into train and test, being sure to use the standardised predictors\n",
        "X_train, X_test, y_train, y_test = train_test_split(X_standardise, \n",
        "                                                    y, \n",
        "                                                    test_size=0.2, \n",
        "                                                    shuffle=False)"
      ],
      "execution_count": 0,
      "outputs": []
    },
    {
      "cell_type": "code",
      "metadata": {
        "id": "KQ-naN_Cc_96",
        "colab_type": "code",
        "colab": {}
      },
      "source": [
        "# import the ridge regression module from sklearn\n",
        "from sklearn.linear_model import Ridge"
      ],
      "execution_count": 0,
      "outputs": []
    },
    {
      "cell_type": "code",
      "metadata": {
        "id": "haezZ-hnc_99",
        "colab_type": "code",
        "colab": {}
      },
      "source": [
        "# create ridge model\n",
        "ridge = Ridge()"
      ],
      "execution_count": 0,
      "outputs": []
    },
    {
      "cell_type": "code",
      "metadata": {
        "id": "pd18vnuKc_-B",
        "colab_type": "code",
        "outputId": "a8de366b-f94a-465c-9db6-95d84debf06b",
        "colab": {
          "base_uri": "https://localhost:8080/",
          "height": 51
        }
      },
      "source": [
        "# train the model\n",
        "ridge.fit(X_train, y_train)"
      ],
      "execution_count": 69,
      "outputs": [
        {
          "output_type": "execute_result",
          "data": {
            "text/plain": [
              "Ridge(alpha=1.0, copy_X=True, fit_intercept=True, max_iter=None,\n",
              "      normalize=False, random_state=None, solver='auto', tol=0.001)"
            ]
          },
          "metadata": {
            "tags": []
          },
          "execution_count": 69
        }
      ]
    },
    {
      "cell_type": "code",
      "metadata": {
        "id": "yD8b0tzec_-H",
        "colab_type": "code",
        "colab": {}
      },
      "source": [
        "# extract the model intercept value\n",
        "b0 = float(ridge.intercept_)"
      ],
      "execution_count": 0,
      "outputs": []
    },
    {
      "cell_type": "code",
      "metadata": {
        "id": "_t0WfbvJc_-K",
        "colab_type": "code",
        "colab": {}
      },
      "source": [
        "# extract the model coefficient value\n",
        "coeff = pd.DataFrame(ridge.coef_, X.columns, columns=['Coefficient'])"
      ],
      "execution_count": 0,
      "outputs": []
    },
    {
      "cell_type": "code",
      "metadata": {
        "id": "YV_fw-3Uc_-M",
        "colab_type": "code",
        "outputId": "97f49fbb-22c1-41a6-bf61-7be4f70863fa",
        "colab": {
          "base_uri": "https://localhost:8080/",
          "height": 34
        }
      },
      "source": [
        "print(\"Intercept:\", float(b0))"
      ],
      "execution_count": 72,
      "outputs": [
        {
          "output_type": "stream",
          "text": [
            "Intercept: 1559.885192120236\n"
          ],
          "name": "stdout"
        }
      ]
    },
    {
      "cell_type": "code",
      "metadata": {
        "id": "yN1Ru1AUc_-R",
        "colab_type": "code",
        "outputId": "baadedda-0968-478b-9d91-9740d9988193",
        "colab": {
          "base_uri": "https://localhost:8080/",
          "height": 514
        }
      },
      "source": [
        "# check out the coefficients\n",
        "coeff"
      ],
      "execution_count": 73,
      "outputs": [
        {
          "output_type": "execute_result",
          "data": {
            "text/html": [
              "<div>\n",
              "<style scoped>\n",
              "    .dataframe tbody tr th:only-of-type {\n",
              "        vertical-align: middle;\n",
              "    }\n",
              "\n",
              "    .dataframe tbody tr th {\n",
              "        vertical-align: top;\n",
              "    }\n",
              "\n",
              "    .dataframe thead th {\n",
              "        text-align: right;\n",
              "    }\n",
              "</style>\n",
              "<table border=\"1\" class=\"dataframe\">\n",
              "  <thead>\n",
              "    <tr style=\"text-align: right;\">\n",
              "      <th></th>\n",
              "      <th>Coefficient</th>\n",
              "    </tr>\n",
              "  </thead>\n",
              "  <tbody>\n",
              "    <tr>\n",
              "      <th>Distance</th>\n",
              "      <td>581.029750</td>\n",
              "    </tr>\n",
              "    <tr>\n",
              "      <th>Temperature</th>\n",
              "      <td>-7.988790</td>\n",
              "    </tr>\n",
              "    <tr>\n",
              "      <th>PickupLat</th>\n",
              "      <td>11.148685</td>\n",
              "    </tr>\n",
              "    <tr>\n",
              "      <th>PickupLong</th>\n",
              "      <td>-36.883774</td>\n",
              "    </tr>\n",
              "    <tr>\n",
              "      <th>DestinationLat</th>\n",
              "      <td>-15.749491</td>\n",
              "    </tr>\n",
              "    <tr>\n",
              "      <th>DestinationLong</th>\n",
              "      <td>-5.222538</td>\n",
              "    </tr>\n",
              "    <tr>\n",
              "      <th>DayofMonth</th>\n",
              "      <td>-12.206075</td>\n",
              "    </tr>\n",
              "    <tr>\n",
              "      <th>Weekday</th>\n",
              "      <td>10.430631</td>\n",
              "    </tr>\n",
              "    <tr>\n",
              "      <th>PickupTime_EarlyMorning</th>\n",
              "      <td>-38.572993</td>\n",
              "    </tr>\n",
              "    <tr>\n",
              "      <th>PickupTime_Late</th>\n",
              "      <td>-4.066041</td>\n",
              "    </tr>\n",
              "    <tr>\n",
              "      <th>PickupTime_LateMorning</th>\n",
              "      <td>-30.633065</td>\n",
              "    </tr>\n",
              "    <tr>\n",
              "      <th>PersonalorBusiness_Personal</th>\n",
              "      <td>25.299338</td>\n",
              "    </tr>\n",
              "    <tr>\n",
              "      <th>PlatformType_2</th>\n",
              "      <td>7.285609</td>\n",
              "    </tr>\n",
              "    <tr>\n",
              "      <th>PlatformType_3</th>\n",
              "      <td>20.946727</td>\n",
              "    </tr>\n",
              "    <tr>\n",
              "      <th>PlatformType_4</th>\n",
              "      <td>-6.057074</td>\n",
              "    </tr>\n",
              "  </tbody>\n",
              "</table>\n",
              "</div>"
            ],
            "text/plain": [
              "                             Coefficient\n",
              "Distance                      581.029750\n",
              "Temperature                    -7.988790\n",
              "PickupLat                      11.148685\n",
              "PickupLong                    -36.883774\n",
              "DestinationLat                -15.749491\n",
              "DestinationLong                -5.222538\n",
              "DayofMonth                    -12.206075\n",
              "Weekday                        10.430631\n",
              "PickupTime_EarlyMorning       -38.572993\n",
              "PickupTime_Late                -4.066041\n",
              "PickupTime_LateMorning        -30.633065\n",
              "PersonalorBusiness_Personal    25.299338\n",
              "PlatformType_2                  7.285609\n",
              "PlatformType_3                 20.946727\n",
              "PlatformType_4                 -6.057074"
            ]
          },
          "metadata": {
            "tags": []
          },
          "execution_count": 73
        }
      ]
    },
    {
      "cell_type": "markdown",
      "metadata": {
        "id": "B5uQ8lcbc_-X",
        "colab_type": "text"
      },
      "source": [
        "### Interpretation of the intercept and coefficients\n",
        "\n",
        "Because we standardised the features, we interpret the intercept slightly differently than in the case of multiple variable linear regression. Previously it was the expected Dollar/Rand exchange rate when all feature values are set to zero. Now, since the standardised features are all centered around zero, the intercept can be interpreted as the expected exchange rate when all the features are equal to their respective means. \n",
        "\n",
        "As with the intercept, the coefficients also have a different interpretation. Previously (without standardisation) it was the expected change in exchange rate given an increase of 1 unit in the feature value. Now (with standardisation) it is the expected change in exchange rate given an increase of 1 in the **scaled feature value**.\n",
        "\n",
        "The advantage here is that it becomes easier to compare coefficients to eachother, since their respective variables are all on the same scale. Now, variables with smaller coefficients are less important - they have suffered more in the shrinkage tradeoff."
      ]
    },
    {
      "cell_type": "markdown",
      "metadata": {
        "id": "WTY47eREc_-X",
        "colab_type": "text"
      },
      "source": [
        "## Assessment of predictive accuracy\n",
        "We can make use of the `sklearn.metrics` library to assess the accuracy of our model. For comparison, we'll fit a linear model (without regularization) to the data."
      ]
    },
    {
      "cell_type": "code",
      "metadata": {
        "id": "W14NyGByc_-Y",
        "colab_type": "code",
        "outputId": "7432c1f7-7c1b-4406-f059-6936a7a564d1",
        "colab": {
          "base_uri": "https://localhost:8080/",
          "height": 34
        }
      },
      "source": [
        "# fit a basic linear model\n",
        "from sklearn.linear_model import LinearRegression\n",
        "\n",
        "# create model object\n",
        "lm = LinearRegression()\n",
        "\n",
        "# train model\n",
        "lm.fit(X_train, y_train)"
      ],
      "execution_count": 74,
      "outputs": [
        {
          "output_type": "execute_result",
          "data": {
            "text/plain": [
              "LinearRegression(copy_X=True, fit_intercept=True, n_jobs=None, normalize=False)"
            ]
          },
          "metadata": {
            "tags": []
          },
          "execution_count": 74
        }
      ]
    },
    {
      "cell_type": "code",
      "metadata": {
        "id": "6ZYXKYHXc_-b",
        "colab_type": "code",
        "colab": {}
      },
      "source": [
        "# import metrics module\n",
        "from sklearn import metrics"
      ],
      "execution_count": 0,
      "outputs": []
    },
    {
      "cell_type": "code",
      "metadata": {
        "id": "uzcU-fZtc_-e",
        "colab_type": "code",
        "outputId": "58d0eca9-30de-4555-897c-9e0e9ff23d1d",
        "colab": {
          "base_uri": "https://localhost:8080/",
          "height": 68
        }
      },
      "source": [
        "# check training accuracy\n",
        "train_lm = lm.predict(X_train)\n",
        "train_ridge = ridge.predict(X_train)\n",
        "\n",
        "print('Training MSE')\n",
        "print('Linear:', metrics.mean_squared_error(y_train, train_lm))\n",
        "print('Ridge :', metrics.mean_squared_error(y_train, train_ridge))"
      ],
      "execution_count": 76,
      "outputs": [
        {
          "output_type": "stream",
          "text": [
            "Training MSE\n",
            "Linear: 650958.1815395305\n",
            "Ridge : 650958.1828533922\n"
          ],
          "name": "stdout"
        }
      ]
    },
    {
      "cell_type": "code",
      "metadata": {
        "id": "XzB8tykuc_-g",
        "colab_type": "code",
        "outputId": "f39cb96e-2ab0-4623-c617-a52c90026fb6",
        "colab": {
          "base_uri": "https://localhost:8080/",
          "height": 68
        }
      },
      "source": [
        "test_lm = lm.predict(X_test)\n",
        "test_ridge = ridge.predict(X_test)\n",
        "\n",
        "print('Testing MSE')\n",
        "print('Linear:', metrics.mean_squared_error(y_test, test_lm))\n",
        "print('Ridge :', metrics.mean_squared_error(y_test, test_ridge))"
      ],
      "execution_count": 77,
      "outputs": [
        {
          "output_type": "stream",
          "text": [
            "Testing MSE\n",
            "Linear: 606066.4315508766\n",
            "Ridge : 606066.8408392238\n"
          ],
          "name": "stdout"
        }
      ]
    },
    {
      "cell_type": "markdown",
      "metadata": {
        "id": "V3fdpGJFc_-j",
        "colab_type": "text"
      },
      "source": [
        "We can see that Ridge regression achieves a much lower score on the testing set at the expense of a slightly higher score on the training set. The increase in training MSE is not anything to be worried about since we want to avoid overfitting on the training set.   \n",
        "\n",
        "As a final step, let's plot our results."
      ]
    },
    {
      "cell_type": "code",
      "metadata": {
        "id": "4Drf6sO-mSaX",
        "colab_type": "code",
        "colab": {
          "base_uri": "https://localhost:8080/",
          "height": 119
        },
        "outputId": "1f066cd8-8d21-4f35-d81b-73d1bb760287"
      },
      "source": [
        "y_test.head()"
      ],
      "execution_count": 89,
      "outputs": [
        {
          "output_type": "execute_result",
          "data": {
            "text/plain": [
              "16960    1143\n",
              "16961    3115\n",
              "16962    2124\n",
              "16963    1840\n",
              "16964     764\n",
              "Name: TimefromPickuptoArrival, dtype: int64"
            ]
          },
          "metadata": {
            "tags": []
          },
          "execution_count": 89
        }
      ]
    },
    {
      "cell_type": "code",
      "metadata": {
        "id": "vRFYzUQac_-k",
        "colab_type": "code",
        "colab": {}
      },
      "source": [
        "# we want to plot the train and test response variables as a continuous line\n",
        "train_plot = y_train.append(pd.Series(y_test[16960], index=['2016M01']))"
      ],
      "execution_count": 0,
      "outputs": []
    },
    {
      "cell_type": "code",
      "metadata": {
        "id": "RRlCIZGlc_-n",
        "colab_type": "code",
        "outputId": "29a810ca-8114-4904-b490-c75f773ff4ff",
        "colab": {
          "base_uri": "https://localhost:8080/",
          "height": 265
        }
      },
      "source": [
        "plt.plot(np.arange(len(y)), ridge.predict(X_standardise), label='Predicted')\n",
        "plt.plot(np.arange(len(train_plot)), train_plot, label='Training')\n",
        "plt.plot(np.arange(len(y_test))+len(y_train), y_test, label='Testing')\n",
        "plt.legend()\n",
        "\n",
        "plt.show()"
      ],
      "execution_count": 91,
      "outputs": [
        {
          "output_type": "display_data",
          "data": {
            "image/png": "[encoded data removed]",
            "text/plain": [
              "<Figure size 432x288 with 1 Axes>"
            ]
          },
          "metadata": {
            "tags": [],
            "needs_background": "light"
          }
        }
      ]
    },
    {
      "cell_type": "markdown",
      "metadata": {
        "id": "pxIZ0fyPnnps",
        "colab_type": "text"
      },
      "source": [
        "# **Repeat of above using the merged dataframe**\n",
        "\n",
        "NOTE: the variables are the same so the cells need to be run from this point all the way to the end (i copy pasted the above and then just changed the first df we start at)\n"
      ]
    },
    {
      "cell_type": "markdown",
      "metadata": {
        "colab_type": "text",
        "id": "6L9k-yXRn5kv"
      },
      "source": [
        "### Review of Data Scaling\n",
        "\n",
        "The regularization techniques we will cover in the course require that our variables are appropriately scaled. As we have seen, Z-score standardisation is a great way to scale variables such that they have similar (though not identical) ranges, in a way that is fairly robust to outlier values.\n",
        "\n",
        "We'll import the `StandardScalar()` object from `sklearn.preprocessing`."
      ]
    },
    {
      "cell_type": "code",
      "metadata": {
        "colab_type": "code",
        "id": "cHIKxJB4n5kw",
        "colab": {}
      },
      "source": [
        "# split data into predictors and response\n",
        "# THIS X AND Y VALUE ARE BASED ON MERGED DATAFRAME AND THEREFORE IS NOT THE SAME AS THE UNMERGE ONE. X COLS WILL DIFFER\n",
        "X = join_df.drop('TimefromPickuptoArrival', axis=1)\n",
        "y = join_df['TimefromPickuptoArrival']"
      ],
      "execution_count": 0,
      "outputs": []
    },
    {
      "cell_type": "code",
      "metadata": {
        "colab_type": "code",
        "id": "dMUubML8n5kz",
        "colab": {}
      },
      "source": [
        "# import scaler method from sklearn\n",
        "from sklearn.preprocessing import StandardScaler"
      ],
      "execution_count": 0,
      "outputs": []
    },
    {
      "cell_type": "code",
      "metadata": {
        "colab_type": "code",
        "id": "zUNl1acon5k3",
        "colab": {}
      },
      "source": [
        "# create scaler object\n",
        "scaler = StandardScaler()"
      ],
      "execution_count": 0,
      "outputs": []
    },
    {
      "cell_type": "code",
      "metadata": {
        "colab_type": "code",
        "id": "ErKXRqYRn5k9",
        "colab": {}
      },
      "source": [
        "# create scaled version of the predictors (there is no need to scale the response)\n",
        "X_scaled = scaler.fit_transform(X)"
      ],
      "execution_count": 0,
      "outputs": []
    },
    {
      "cell_type": "code",
      "metadata": {
        "colab_type": "code",
        "outputId": "c866ede3-688c-482f-9c5b-fc1b197db6c0",
        "id": "91pSWrcRn5lA",
        "colab": {
          "base_uri": "https://localhost:8080/",
          "height": 224
        }
      },
      "source": [
        "# convert the scaled predictor values into a dataframe\n",
        "X_standardise = pd.DataFrame(X_scaled,columns=X.columns)\n",
        "X_standardise.head()"
      ],
      "execution_count": 96,
      "outputs": [
        {
          "output_type": "execute_result",
          "data": {
            "text/html": [
              "<div>\n",
              "<style scoped>\n",
              "    .dataframe tbody tr th:only-of-type {\n",
              "        vertical-align: middle;\n",
              "    }\n",
              "\n",
              "    .dataframe tbody tr th {\n",
              "        vertical-align: top;\n",
              "    }\n",
              "\n",
              "    .dataframe thead th {\n",
              "        text-align: right;\n",
              "    }\n",
              "</style>\n",
              "<table border=\"1\" class=\"dataframe\">\n",
              "  <thead>\n",
              "    <tr style=\"text-align: right;\">\n",
              "      <th></th>\n",
              "      <th>Distance</th>\n",
              "      <th>Temperature</th>\n",
              "      <th>PickupLat</th>\n",
              "      <th>PickupLong</th>\n",
              "      <th>DestinationLat</th>\n",
              "      <th>DestinationLong</th>\n",
              "      <th>DayofMonth</th>\n",
              "      <th>Weekday</th>\n",
              "      <th>PickupTime_EarlyMorning</th>\n",
              "      <th>PickupTime_Late</th>\n",
              "      <th>PickupTime_LateMorning</th>\n",
              "      <th>PersonalorBusiness_Personal</th>\n",
              "      <th>PlatformType_2</th>\n",
              "      <th>PlatformType_3</th>\n",
              "      <th>PlatformType_4</th>\n",
              "      <th>NoOfOrders</th>\n",
              "      <th>Age</th>\n",
              "      <th>AverageRating</th>\n",
              "      <th>NoofRatings</th>\n",
              "    </tr>\n",
              "  </thead>\n",
              "  <tbody>\n",
              "    <tr>\n",
              "      <th>0</th>\n",
              "      <td>-0.971370</td>\n",
              "      <td>-0.902320</td>\n",
              "      <td>-1.189424</td>\n",
              "      <td>0.509897</td>\n",
              "      <td>-0.511888</td>\n",
              "      <td>0.414159</td>\n",
              "      <td>-0.756213</td>\n",
              "      <td>1.122885</td>\n",
              "      <td>-0.325051</td>\n",
              "      <td>-0.451195</td>\n",
              "      <td>1.770412</td>\n",
              "      <td>-0.468583</td>\n",
              "      <td>-0.220146</td>\n",
              "      <td>0.417505</td>\n",
              "      <td>-0.030729</td>\n",
              "      <td>-0.035206</td>\n",
              "      <td>0.501451</td>\n",
              "      <td>-0.090082</td>\n",
              "      <td>0.516144</td>\n",
              "    </tr>\n",
              "    <tr>\n",
              "      <th>1</th>\n",
              "      <td>1.145469</td>\n",
              "      <td>0.959066</td>\n",
              "      <td>-2.294056</td>\n",
              "      <td>2.349813</td>\n",
              "      <td>-0.356757</td>\n",
              "      <td>0.070177</td>\n",
              "      <td>-0.415254</td>\n",
              "      <td>1.122885</td>\n",
              "      <td>-0.325051</td>\n",
              "      <td>-0.451195</td>\n",
              "      <td>1.770412</td>\n",
              "      <td>2.134095</td>\n",
              "      <td>-0.220146</td>\n",
              "      <td>0.417505</td>\n",
              "      <td>-0.030729</td>\n",
              "      <td>-0.823507</td>\n",
              "      <td>-0.998616</td>\n",
              "      <td>-0.308411</td>\n",
              "      <td>-0.675342</td>\n",
              "    </tr>\n",
              "    <tr>\n",
              "      <th>2</th>\n",
              "      <td>-1.147774</td>\n",
              "      <td>0.059396</td>\n",
              "      <td>-0.878981</td>\n",
              "      <td>0.858136</td>\n",
              "      <td>-0.526672</td>\n",
              "      <td>0.379588</td>\n",
              "      <td>1.630501</td>\n",
              "      <td>-0.791368</td>\n",
              "      <td>-0.325051</td>\n",
              "      <td>-0.451195</td>\n",
              "      <td>-0.564840</td>\n",
              "      <td>-0.468583</td>\n",
              "      <td>-0.220146</td>\n",
              "      <td>0.417505</td>\n",
              "      <td>-0.030729</td>\n",
              "      <td>-0.425228</td>\n",
              "      <td>-1.148623</td>\n",
              "      <td>-1.509220</td>\n",
              "      <td>-0.563640</td>\n",
              "    </tr>\n",
              "    <tr>\n",
              "      <th>3</th>\n",
              "      <td>-0.089354</td>\n",
              "      <td>-1.274597</td>\n",
              "      <td>0.005523</td>\n",
              "      <td>0.563962</td>\n",
              "      <td>0.730374</td>\n",
              "      <td>-0.361289</td>\n",
              "      <td>-0.074294</td>\n",
              "      <td>1.122885</td>\n",
              "      <td>3.076437</td>\n",
              "      <td>-0.451195</td>\n",
              "      <td>-0.564840</td>\n",
              "      <td>-0.468583</td>\n",
              "      <td>-0.220146</td>\n",
              "      <td>0.417505</td>\n",
              "      <td>-0.030729</td>\n",
              "      <td>-0.512252</td>\n",
              "      <td>-1.085218</td>\n",
              "      <td>0.674069</td>\n",
              "      <td>-0.566123</td>\n",
              "    </tr>\n",
              "    <tr>\n",
              "      <th>4</th>\n",
              "      <td>-0.089354</td>\n",
              "      <td>-2.453475</td>\n",
              "      <td>0.487515</td>\n",
              "      <td>-0.510932</td>\n",
              "      <td>-0.357811</td>\n",
              "      <td>-0.031369</td>\n",
              "      <td>-0.301601</td>\n",
              "      <td>-1.429452</td>\n",
              "      <td>-0.325051</td>\n",
              "      <td>-0.451195</td>\n",
              "      <td>1.770412</td>\n",
              "      <td>2.134095</td>\n",
              "      <td>-0.220146</td>\n",
              "      <td>-2.395181</td>\n",
              "      <td>-0.030729</td>\n",
              "      <td>0.392929</td>\n",
              "      <td>-0.174352</td>\n",
              "      <td>0.237411</td>\n",
              "      <td>0.476428</td>\n",
              "    </tr>\n",
              "  </tbody>\n",
              "</table>\n",
              "</div>"
            ],
            "text/plain": [
              "   Distance  Temperature  PickupLat  ...       Age  AverageRating  NoofRatings\n",
              "0 -0.971370    -0.902320  -1.189424  ...  0.501451      -0.090082     0.516144\n",
              "1  1.145469     0.959066  -2.294056  ... -0.998616      -0.308411    -0.675342\n",
              "2 -1.147774     0.059396  -0.878981  ... -1.148623      -1.509220    -0.563640\n",
              "3 -0.089354    -1.274597   0.005523  ... -1.085218       0.674069    -0.566123\n",
              "4 -0.089354    -2.453475   0.487515  ... -0.174352       0.237411     0.476428\n",
              "\n",
              "[5 rows x 19 columns]"
            ]
          },
          "metadata": {
            "tags": []
          },
          "execution_count": 96
        }
      ]
    },
    {
      "cell_type": "markdown",
      "metadata": {
        "colab_type": "text",
        "id": "YnAqqXTqn5lD"
      },
      "source": [
        "## Ridge Regression\n",
        "We will first split our data into a training and a testing set. We'll use the first eight years of data as our training set and test the model on the final two years. Note that with time-series data it isn't appropriate to sample rows randomly for the training and testing sets because chronological order remains important.\n",
        "\n",
        "Fitting and testing a Ridge Regression model is very similar to multiple variable regression in `sklearn`. For now, we are going to create a `Ridge()` object without modifying any of the parameters. This means that we will use the default value of $\\alpha=1$. In a later tutorial, we'll learn about choosing a better value for this hyperparameter."
      ]
    },
    {
      "cell_type": "code",
      "metadata": {
        "colab_type": "code",
        "id": "ZHSL5TiFn5lE",
        "colab": {}
      },
      "source": [
        "# import train/test splitting function from sklearn\n",
        "from sklearn.model_selection import train_test_split"
      ],
      "execution_count": 0,
      "outputs": []
    },
    {
      "cell_type": "code",
      "metadata": {
        "colab_type": "code",
        "id": "qm2LqWL1n5lG",
        "colab": {}
      },
      "source": [
        "# split the data into train and test, being sure to use the standardised predictors\n",
        "X_train, X_test, y_train, y_test = train_test_split(X_standardise, \n",
        "                                                    y, \n",
        "                                                    test_size=0.2, \n",
        "                                                    shuffle=False)"
      ],
      "execution_count": 0,
      "outputs": []
    },
    {
      "cell_type": "code",
      "metadata": {
        "colab_type": "code",
        "id": "YZeRs6Tjn5lJ",
        "colab": {}
      },
      "source": [
        "# import the ridge regression module from sklearn\n",
        "from sklearn.linear_model import Ridge"
      ],
      "execution_count": 0,
      "outputs": []
    },
    {
      "cell_type": "code",
      "metadata": {
        "colab_type": "code",
        "id": "USZIrgbJn5lQ",
        "colab": {}
      },
      "source": [
        "# create ridge model\n",
        "ridge = Ridge()"
      ],
      "execution_count": 0,
      "outputs": []
    },
    {
      "cell_type": "code",
      "metadata": {
        "colab_type": "code",
        "outputId": "abfa6c05-4731-45b9-fa2a-926a37ec5b86",
        "id": "mnZZJMlyn5lS",
        "colab": {
          "base_uri": "https://localhost:8080/",
          "height": 51
        }
      },
      "source": [
        "# train the model\n",
        "ridge.fit(X_train, y_train)"
      ],
      "execution_count": 101,
      "outputs": [
        {
          "output_type": "execute_result",
          "data": {
            "text/plain": [
              "Ridge(alpha=1.0, copy_X=True, fit_intercept=True, max_iter=None,\n",
              "      normalize=False, random_state=None, solver='auto', tol=0.001)"
            ]
          },
          "metadata": {
            "tags": []
          },
          "execution_count": 101
        }
      ]
    },
    {
      "cell_type": "code",
      "metadata": {
        "colab_type": "code",
        "id": "HMhYtaMOn5lV",
        "colab": {}
      },
      "source": [
        "# extract the model intercept value\n",
        "b0 = float(ridge.intercept_)"
      ],
      "execution_count": 0,
      "outputs": []
    },
    {
      "cell_type": "code",
      "metadata": {
        "colab_type": "code",
        "id": "K65HE9nHn5lX",
        "colab": {}
      },
      "source": [
        "# extract the model coefficient value\n",
        "coeff = pd.DataFrame(ridge.coef_, X.columns, columns=['Coefficient'])"
      ],
      "execution_count": 0,
      "outputs": []
    },
    {
      "cell_type": "code",
      "metadata": {
        "colab_type": "code",
        "outputId": "98ba6c74-ead2-4df8-93bc-97c9493ee60d",
        "id": "gHOSRMgWn5la",
        "colab": {
          "base_uri": "https://localhost:8080/",
          "height": 34
        }
      },
      "source": [
        "print(\"Intercept:\", float(b0))"
      ],
      "execution_count": 104,
      "outputs": [
        {
          "output_type": "stream",
          "text": [
            "Intercept: 1559.6270465319694\n"
          ],
          "name": "stdout"
        }
      ]
    },
    {
      "cell_type": "code",
      "metadata": {
        "colab_type": "code",
        "outputId": "7688b0e7-609a-4611-c908-80bed800773a",
        "id": "5-9OdwjXn5le",
        "colab": {
          "base_uri": "https://localhost:8080/",
          "height": 638
        }
      },
      "source": [
        "# check out the coefficients\n",
        "coeff"
      ],
      "execution_count": 105,
      "outputs": [
        {
          "output_type": "execute_result",
          "data": {
            "text/html": [
              "<div>\n",
              "<style scoped>\n",
              "    .dataframe tbody tr th:only-of-type {\n",
              "        vertical-align: middle;\n",
              "    }\n",
              "\n",
              "    .dataframe tbody tr th {\n",
              "        vertical-align: top;\n",
              "    }\n",
              "\n",
              "    .dataframe thead th {\n",
              "        text-align: right;\n",
              "    }\n",
              "</style>\n",
              "<table border=\"1\" class=\"dataframe\">\n",
              "  <thead>\n",
              "    <tr style=\"text-align: right;\">\n",
              "      <th></th>\n",
              "      <th>Coefficient</th>\n",
              "    </tr>\n",
              "  </thead>\n",
              "  <tbody>\n",
              "    <tr>\n",
              "      <th>Distance</th>\n",
              "      <td>580.422558</td>\n",
              "    </tr>\n",
              "    <tr>\n",
              "      <th>Temperature</th>\n",
              "      <td>-3.184437</td>\n",
              "    </tr>\n",
              "    <tr>\n",
              "      <th>PickupLat</th>\n",
              "      <td>7.868672</td>\n",
              "    </tr>\n",
              "    <tr>\n",
              "      <th>PickupLong</th>\n",
              "      <td>-36.057233</td>\n",
              "    </tr>\n",
              "    <tr>\n",
              "      <th>DestinationLat</th>\n",
              "      <td>-15.730599</td>\n",
              "    </tr>\n",
              "    <tr>\n",
              "      <th>DestinationLong</th>\n",
              "      <td>-7.557044</td>\n",
              "    </tr>\n",
              "    <tr>\n",
              "      <th>DayofMonth</th>\n",
              "      <td>-10.504510</td>\n",
              "    </tr>\n",
              "    <tr>\n",
              "      <th>Weekday</th>\n",
              "      <td>9.209696</td>\n",
              "    </tr>\n",
              "    <tr>\n",
              "      <th>PickupTime_EarlyMorning</th>\n",
              "      <td>-33.552484</td>\n",
              "    </tr>\n",
              "    <tr>\n",
              "      <th>PickupTime_Late</th>\n",
              "      <td>-3.075259</td>\n",
              "    </tr>\n",
              "    <tr>\n",
              "      <th>PickupTime_LateMorning</th>\n",
              "      <td>-28.050524</td>\n",
              "    </tr>\n",
              "    <tr>\n",
              "      <th>PersonalorBusiness_Personal</th>\n",
              "      <td>20.514066</td>\n",
              "    </tr>\n",
              "    <tr>\n",
              "      <th>PlatformType_2</th>\n",
              "      <td>6.865756</td>\n",
              "    </tr>\n",
              "    <tr>\n",
              "      <th>PlatformType_3</th>\n",
              "      <td>23.412482</td>\n",
              "    </tr>\n",
              "    <tr>\n",
              "      <th>PlatformType_4</th>\n",
              "      <td>-6.045014</td>\n",
              "    </tr>\n",
              "    <tr>\n",
              "      <th>NoOfOrders</th>\n",
              "      <td>-157.939053</td>\n",
              "    </tr>\n",
              "    <tr>\n",
              "      <th>Age</th>\n",
              "      <td>-2.932963</td>\n",
              "    </tr>\n",
              "    <tr>\n",
              "      <th>AverageRating</th>\n",
              "      <td>-36.396131</td>\n",
              "    </tr>\n",
              "    <tr>\n",
              "      <th>NoofRatings</th>\n",
              "      <td>113.305169</td>\n",
              "    </tr>\n",
              "  </tbody>\n",
              "</table>\n",
              "</div>"
            ],
            "text/plain": [
              "                             Coefficient\n",
              "Distance                      580.422558\n",
              "Temperature                    -3.184437\n",
              "PickupLat                       7.868672\n",
              "PickupLong                    -36.057233\n",
              "DestinationLat                -15.730599\n",
              "DestinationLong                -7.557044\n",
              "DayofMonth                    -10.504510\n",
              "Weekday                         9.209696\n",
              "PickupTime_EarlyMorning       -33.552484\n",
              "PickupTime_Late                -3.075259\n",
              "PickupTime_LateMorning        -28.050524\n",
              "PersonalorBusiness_Personal    20.514066\n",
              "PlatformType_2                  6.865756\n",
              "PlatformType_3                 23.412482\n",
              "PlatformType_4                 -6.045014\n",
              "NoOfOrders                   -157.939053\n",
              "Age                            -2.932963\n",
              "AverageRating                 -36.396131\n",
              "NoofRatings                   113.305169"
            ]
          },
          "metadata": {
            "tags": []
          },
          "execution_count": 105
        }
      ]
    },
    {
      "cell_type": "markdown",
      "metadata": {
        "colab_type": "text",
        "id": "3l6_PzNfn5lh"
      },
      "source": [
        "### Interpretation of the intercept and coefficients\n",
        "\n",
        "Because we standardised the features, we interpret the intercept slightly differently than in the case of multiple variable linear regression. Previously it was the expected Dollar/Rand exchange rate when all feature values are set to zero. Now, since the standardised features are all centered around zero, the intercept can be interpreted as the expected exchange rate when all the features are equal to their respective means. \n",
        "\n",
        "As with the intercept, the coefficients also have a different interpretation. Previously (without standardisation) it was the expected change in exchange rate given an increase of 1 unit in the feature value. Now (with standardisation) it is the expected change in exchange rate given an increase of 1 in the **scaled feature value**.\n",
        "\n",
        "The advantage here is that it becomes easier to compare coefficients to eachother, since their respective variables are all on the same scale. Now, variables with smaller coefficients are less important - they have suffered more in the shrinkage tradeoff."
      ]
    },
    {
      "cell_type": "markdown",
      "metadata": {
        "colab_type": "text",
        "id": "Xko7iGy5n5lh"
      },
      "source": [
        "## Assessment of predictive accuracy\n",
        "We can make use of the `sklearn.metrics` library to assess the accuracy of our model. For comparison, we'll fit a linear model (without regularization) to the data."
      ]
    },
    {
      "cell_type": "code",
      "metadata": {
        "colab_type": "code",
        "outputId": "94f2567f-2dcf-4e66-e061-79e36fdc01c5",
        "id": "v2ny73KEn5li",
        "colab": {
          "base_uri": "https://localhost:8080/",
          "height": 34
        }
      },
      "source": [
        "# fit a basic linear model\n",
        "from sklearn.linear_model import LinearRegression\n",
        "\n",
        "# create model object\n",
        "lm = LinearRegression()\n",
        "\n",
        "# train model\n",
        "lm.fit(X_train, y_train)"
      ],
      "execution_count": 106,
      "outputs": [
        {
          "output_type": "execute_result",
          "data": {
            "text/plain": [
              "LinearRegression(copy_X=True, fit_intercept=True, n_jobs=None, normalize=False)"
            ]
          },
          "metadata": {
            "tags": []
          },
          "execution_count": 106
        }
      ]
    },
    {
      "cell_type": "code",
      "metadata": {
        "colab_type": "code",
        "id": "FeakVAzAn5lm",
        "colab": {}
      },
      "source": [
        "# import metrics module\n",
        "from sklearn import metrics"
      ],
      "execution_count": 0,
      "outputs": []
    },
    {
      "cell_type": "code",
      "metadata": {
        "colab_type": "code",
        "outputId": "062b81ff-1432-48dc-9a9c-af2dc1ce57c5",
        "id": "dRQLmXzHn5lr",
        "colab": {
          "base_uri": "https://localhost:8080/",
          "height": 68
        }
      },
      "source": [
        "# check training accuracy\n",
        "train_lm = lm.predict(X_train)\n",
        "train_ridge = ridge.predict(X_train)\n",
        "\n",
        "print('Training MSE')\n",
        "print('Linear:', metrics.mean_squared_error(y_train, train_lm))\n",
        "print('Ridge :', metrics.mean_squared_error(y_train, train_ridge))"
      ],
      "execution_count": 108,
      "outputs": [
        {
          "output_type": "stream",
          "text": [
            "Training MSE\n",
            "Linear: 642605.9846792299\n",
            "Ridge : 642605.9868478872\n"
          ],
          "name": "stdout"
        }
      ]
    },
    {
      "cell_type": "code",
      "metadata": {
        "colab_type": "code",
        "outputId": "d006985a-2efb-4a28-d895-15008ceb7183",
        "id": "53JOVQGHn5lx",
        "colab": {
          "base_uri": "https://localhost:8080/",
          "height": 68
        }
      },
      "source": [
        "test_lm = lm.predict(X_test)\n",
        "test_ridge = ridge.predict(X_test)\n",
        "\n",
        "print('Testing MSE')\n",
        "print('Linear:', metrics.mean_squared_error(y_test, test_lm))\n",
        "print('Ridge :', metrics.mean_squared_error(y_test, test_ridge))"
      ],
      "execution_count": 109,
      "outputs": [
        {
          "output_type": "stream",
          "text": [
            "Testing MSE\n",
            "Linear: 599571.2586487111\n",
            "Ridge : 599571.1722232085\n"
          ],
          "name": "stdout"
        }
      ]
    },
    {
      "cell_type": "markdown",
      "metadata": {
        "colab_type": "text",
        "id": "wS-Tzotqn5l3"
      },
      "source": [
        "We can see that Ridge regression achieves a much lower score on the testing set at the expense of a slightly higher score on the training set. The increase in training MSE is not anything to be worried about since we want to avoid overfitting on the training set.   \n",
        "\n",
        "As a final step, let's plot our results."
      ]
    },
    {
      "cell_type": "code",
      "metadata": {
        "id": "s0CwTzlZoQH0",
        "colab_type": "code",
        "colab": {
          "base_uri": "https://localhost:8080/",
          "height": 221
        },
        "outputId": "5746b3ea-3013-47ff-c8a2-c389a3bde030"
      },
      "source": [
        "y_test"
      ],
      "execution_count": 110,
      "outputs": [
        {
          "output_type": "execute_result",
          "data": {
            "text/plain": [
              "16960    1143\n",
              "16961    3115\n",
              "16962    2124\n",
              "16963    1840\n",
              "16964     764\n",
              "         ... \n",
              "21196       9\n",
              "21197     770\n",
              "21198    2953\n",
              "21199    1380\n",
              "21200    2128\n",
              "Name: TimefromPickuptoArrival, Length: 4241, dtype: int64"
            ]
          },
          "metadata": {
            "tags": []
          },
          "execution_count": 110
        }
      ]
    },
    {
      "cell_type": "code",
      "metadata": {
        "colab_type": "code",
        "id": "FgjgYX-in5l3",
        "colab": {}
      },
      "source": [
        "# we want to plot the train and test response variables as a continuous line\n",
        "train_plot = y_train.append(pd.Series(y_test[16960], index=['2016M01']))"
      ],
      "execution_count": 0,
      "outputs": []
    },
    {
      "cell_type": "code",
      "metadata": {
        "colab_type": "code",
        "outputId": "bb04c9b2-a155-4935-d440-6c3025ba3337",
        "id": "PBzij2iLn5l6",
        "colab": {
          "base_uri": "https://localhost:8080/",
          "height": 265
        }
      },
      "source": [
        "plt.plot(np.arange(len(y)), ridge.predict(X_standardise), label='Predicted')\n",
        "plt.plot(np.arange(len(train_plot)), train_plot, label='Training')\n",
        "plt.plot(np.arange(len(y_test))+len(y_train), y_test, label='Testing')\n",
        "plt.legend()\n",
        "\n",
        "plt.show()"
      ],
      "execution_count": 112,
      "outputs": [
        {
          "output_type": "display_data",
          "data": {
            "image/png": "[encoded data removed]",
            "text/plain": [
              "<Figure size 432x288 with 1 Axes>"
            ]
          },
          "metadata": {
            "tags": [],
            "needs_background": "light"
          }
        }
      ]
    }
  ]
}